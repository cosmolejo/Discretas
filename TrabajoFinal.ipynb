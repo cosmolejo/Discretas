{
 "cells": [
  {
   "cell_type": "markdown",
   "metadata": {
    "collapsed": false
   },
   "source": [
    "# Trabajo final Discretas 2\n",
    "\n",
    "## Integrantes: \n",
    "* Paola Posada Restrepo, 1001242646\n",
    "* Alejandro Mesa Gómez, 1017228006\n",
    "\n",
    "## Trabajo:\n",
    "\n",
    "1) Utilice Diffie-Hellman para ver cu ́al es la clave de encriptaci ́on que intercambian Roberto y Carlos donde $g = 4$ y $p = 8324923$ y el numero de clave privada de Roberto es $234$ y el de Carlos es $545$.\n",
    "\n",
    "2) Utilizando RSA encuentre la clave d, dado que la clave pública es $(543510200934057811556261, 6121)$\n",
    "\n",
    "3) Desencripte el siguiente mensaje $(n = 7387, e = 1357)$:\n",
    "$$2133\\text{ } 429 \\text{ }1126$$\n"
   ]
  },
  {
   "cell_type": "markdown",
   "metadata": {
    "collapsed": false
   },
   "source": [
    "# Diffie-Hellman\n",
    "\n",
    "en este proceso se tiene una clave privada (a o b) y una clave publica (g,p), para encontrar el valor de la clave para encriptar se realiza el siguiente proceso:\n",
    "\n",
    "Roberto elige un a y calcula $r=g^{a}\\text{mod}(p)$ y se lo envia a Carlos\n",
    "Carlos elige un b y calcula $c=g^{b}\\text{mod}(p)$y se lo envia a Roberto\n",
    "\n",
    "Finalmente, ambos toman el valor recibido y lo elevan por el valor de su clave privada, i.e. $(c)^a \\text{mod}(p)$ y $(r)^b \\text{mod}(p)$"
   ]
  },
  {
   "cell_type": "code",
   "execution_count": 1,
   "metadata": {
    "collapsed": false
   },
   "outputs": [
    {
     "name": "stdout",
     "output_type": "stream",
     "text": [
      "valor enviado por Roberto:  6481925\n",
      "\n",
      "valor enviado por Carlos:  1220163\n",
      "\n",
      "clave obtenida por Roberto:  8318058\n",
      "\n",
      "clave obtenida por Carlos:  8318058\n"
     ]
    }
   ],
   "source": [
    "g=4\n",
    "p=8324923\n",
    "a=234 #clave de Roberto (emisor)\n",
    "b=545 #clave de Carlos (receptor)\n",
    "\n",
    "r=(g**a)%p\n",
    "c=(g**b)%p\n",
    "print(\"valor enviado por Roberto: \",r)\n",
    "print()\n",
    "print(\"valor enviado por Carlos: \",c)\n",
    "print()\n",
    "\n",
    "r_1=(c**a)%p\n",
    "c_1=(r**b)%p\n",
    "\n",
    "\n",
    "print(\"clave obtenida por Roberto: \",r_1)\n",
    "print()\n",
    "print(\"clave obtenida por Carlos: \",c_1)"
   ]
  },
  {
   "cell_type": "markdown",
   "metadata": {
    "collapsed": false
   },
   "source": [
    "de los cálculos realizados, se concluye que la clave de encriptación usando Diffie-Hellman entre Roberto y Carlos es: $$8318058$$"
   ]
  },
  {
   "cell_type": "markdown",
   "metadata": {
    "collapsed": false
   },
   "source": [
    "# RSA\n",
    "\n",
    "teniedo la clave publica $(n,e)$ donde $n=pq$ números primos  y $e$ es un número tal que mcd$(e,\\varphi (n))=1$ entonces la clave privada será $d$ tal que\n",
    "\n",
    "$$ ed \\equiv 1\\text{mod}(\\varphi(n)) $$\n",
    "\n",
    "donde $\\varphi(n)=(p-1)(q-1)$, para nuestro problema, se tiene que $n=543510200934057811556261$, usando wolfram aplha (https://bit.ly/2siu1zZ) se obtiene que los valores primos p y q son: $p=652873455583$ y $q=832489353467$"
   ]
  },
  {
   "cell_type": "code",
   "execution_count": 2,
   "metadata": {
    "collapsed": false
   },
   "outputs": [
    {
     "name": "stdout",
     "output_type": "stream",
     "text": [
      "\n",
      "con la clave publica: ( 543510200934057811556261 , 6121 ) la clave privada d será: \n",
      "d =  67394909738249058748429\n"
     ]
    }
   ],
   "source": [
    "###############################################################\n",
    "## RUTINAS IMPLEMENTADAS\n",
    "###############################################################\n",
    "\n",
    "def phi(p,q): #rutina para calcular el phi de n teniendo los valores primos p y q\n",
    "    return(p-1)*(q-1)\n",
    "\n",
    "def egcd(a, b):                #maximo comun divisor a partir del algoritmo de Euclides  extendido\n",
    "    if a == 0:                 #(tomado de https://en.wikibooks.org/wiki/Algorithm_Implementation/Mathematics/Extended_Euclidean_algorithm)\n",
    "        return (b, 0, 1)       #retorna g,x,y tal que ax + by = g = mcd(a, b).\n",
    "    else:\n",
    "        g, y, x = egcd(b % a, a)\n",
    "        return (g, x - (b // a) * y, y)\n",
    "\n",
    "def modinv(a, m): #calculo del modulo inverso a partir del egcd\n",
    "    g, x, y = egcd(a, m)\n",
    "    if g != 1:\n",
    "        raise Exception('modular inverse does not exist')\n",
    "    else:\n",
    "        return x % m\n",
    "\n",
    "\n",
    "###############################################################\n",
    "## PROCESO PARA RSA\n",
    "###############################################################\n",
    "\n",
    "n=543510200934057811556261\n",
    "e=6121\n",
    "p=652873455583\n",
    "q=832489353467\n",
    "\n",
    "\n",
    "phi_n=phi(p,q)\n",
    "d=modinv(e,phi_n)\n",
    "\n",
    "print(\"\")\n",
    "print(\"con la clave publica: (\",n,\",\",e,\") la clave privada d será: \")\n",
    "print(\"d = \",d)\n"
   ]
  },
  {
   "cell_type": "markdown",
   "metadata": {
    "collapsed": false
   },
   "source": [
    "finalmente, se concluye que\n",
    "$$d = 67394909738249058748429 $$"
   ]
  },
  {
   "cell_type": "markdown",
   "metadata": {
    "collapsed": false
   },
   "source": [
    "# Desencriptar\n",
    "\n",
    "para desencriptar se realiza el siguiente proceso: sea $c$ el texto encriptado, $m$ el texto plano original y $d$ la clave privada obtenida por el método de RSA. luego, para obtener el texto desencriptaco a partir de $c$ se aplica la siguiente congruencia:\n",
    "\n",
    "$$c^d \\equiv m \\text{mod}(n)$$\n",
    "\n",
    "teniendo el siguiente diccionario:\n",
    "\n",
    "|||||||||||\n",
    "|---|---|---|---|---|---|---|---|---|---|\n",
    "|A |B |C |D |E |F |G |H |I |J|\n",
    "|11 |12 |13 |14 |15 |16 |17 |18 |19 |20|\n",
    "|K |L |M |N |O |P |Q |R |S |T|\n",
    "|21| 22| 23 |24| 25 |26 |27| 28 |29 |30|\n",
    "|U |V| W |X |Y |Z|\n",
    "|31 |32| 33 |34 |35| 36|\n",
    "\n",
    "\n",
    "\n",
    "\n",
    "se desencripta el texto recibido: $2133\\text{ } 429 \\text{ }1126$ \n",
    "\n",
    "\n",
    "y luego se separan los números en pares para descubrir el mensaje secreto.\n",
    "Con la clave publica (n = 7387, e = 1357)"
   ]
  },
  {
   "cell_type": "code",
   "execution_count": 3,
   "metadata": {
    "collapsed": false
   },
   "outputs": [
   ],
   "source": [
    "dictionary ={11:\"A\",12:\"B\",13:\"C\",14:\"D\",15:\"E\",16:\"F\",18:\"G\",19:\"I\",20:\"J\",\n",
    "            21:\"K\",22:\"L\", 23:\"M\",24:\"N\",25:\"O\",26:\"P\",27:\"Q\",28:\"R\",29:\"S\",\n",
    "             30:\"T\",31:\"U\",32:\"V\",33:\"W\",34:\"X\",35:\"Y\",36:\"Z\"}\n",
    "\n",
    "def decrypter (m = []):\n",
    "    data=[]\n",
    "    for i in m:\n",
    "        data.append(dictionary[int(i)])\n",
    "    return data\n",
    "import re\n",
    "\n",
    "def concater(m1,m2,m3):\n",
    "    return re.findall('..',str(m1))+re.findall('..',str(m2))+re.findall('..',str(m3))\n",
    "\n"
   ]
  },
  {
   "cell_type": "code",
   "execution_count": 4,
   "metadata": {
    "collapsed": false
   },
   "outputs": [
    {
     "name": "stdout",
     "output_type": "stream",
     "text": [
      "\n",
      "texto desencriptado (en sus valores numericos):  2431 2312 1528\n",
      "\n",
      "palabra des encriptada:  NUMBER\n",
      "\n"
     ]
    }
   ],
   "source": [
    "n=7387\n",
    "e=1357\n",
    "p=83 #obtenido de la misma forma del punto anterior\n",
    "q=89\n",
    "\n",
    "phi_n=phi(p,q)\n",
    "d=modinv(e,phi_n)\n",
    "\n",
    "C1=2133\n",
    "C2=429\n",
    "C3=1126\n",
    "\n",
    "m1=C1**d%n\n",
    "m2=C2**d%n\n",
    "m3=C3**d%n\n",
    "\n",
    "print(\"\")\n",
    "print(\"texto desencriptado (en sus valores numericos): \",m1,m2,m3)\n",
    "print(\"\")\n",
    "\n",
    "m=concater(m1,m2,m3)\n",
    "\n",
    "text=decrypter(m)\n",
    "\n",
    "palabra=\"\"\n",
    "\n",
    "palabra=palabra.join(text)\n",
    "\n",
    "\n",
    "print (\"palabra des encriptada: \",palabra)\n",
    "print(\"\")"
   ]
  },
  {
   "cell_type": "markdown",
   "metadata": {
    "collapsed": false
   },
   "source": [
    "finalmente, usando los metodos creados en este script, se halla que la palabra secreta es:\n",
    "\n",
    "$$\\text{NUMBER}$$"
   ]
  }
 ],
 "metadata": {
  "kernelspec": {
   "display_name": "Python 3 (Anaconda)",
   "language": "python",
   "name": "anaconda3"
  },
  "language_info": {
   "codemirror_mode": {
    "name": "ipython",
    "version": 3
   },
   "file_extension": ".py",
   "mimetype": "text/x-python",
   "name": "python",
   "nbconvert_exporter": "python",
   "pygments_lexer": "ipython3",
   "version": "3.5.5"
  }
 },
 "nbformat": 4,
 "nbformat_minor": 0
}