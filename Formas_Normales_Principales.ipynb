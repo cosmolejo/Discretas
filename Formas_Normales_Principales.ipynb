{
 "cells": [
  {
   "cell_type": "markdown",
   "metadata": {},
   "source": [
    "# Ejercicio 3: FNDP y FNCP\n",
    "\n",
    "## Integrantes:\n",
    "#### Maria Daniela Martinez Oliveros, 1126827322 \n",
    "#### Daniel Loaiza Noreña, 1214747273 \n",
    "#### Tatiana Herrera Restrepo ,1017270764\n",
    "#### Alejandro Mesa Gómez , 1017228006 \n",
    "\n",
    "A partir de las proposiciones dadas en el Ejercicio 1, encontrar la FNDP y\n",
    "FNCP usando Wolfram Mathematica o Wolfram Alpha. A partir del resultado\n",
    "encontrado, demostrar teóricamente la FNDP y FNCP, indicando que ley o\n",
    "regla de inferencia se utilizó en cada paso de la demostración.\n",
    "\n",
    "### lenguaje y versión: python 2.7, IDE: Jupyter\n",
    "\n",
    "# Librerías a usar"
   ]
  },
  {
   "cell_type": "code",
   "execution_count": 22,
   "metadata": {},
   "outputs": [],
   "source": [
    "from sympy import *\n",
    "from sympy.abc import P,Q,R,S,T\n",
    "from sympy.logic.boolalg import Not, And, Or\n",
    "from sympy.logic.boolalg import to_cnf, to_dnf\n",
    "from truths import Truths\n",
    "\n",
    "init_printing()"
   ]
  },
  {
   "cell_type": "markdown",
   "metadata": {},
   "source": [
    "en este programa se usará la librería sympy, la cual permite realizar matemáticas simbólicas en python"
   ]
  },
  {
   "cell_type": "markdown",
   "metadata": {},
   "source": [
    "# primera proposición: \n"
   ]
  },
  {
   "cell_type": "code",
   "execution_count": 46,
   "metadata": {},
   "outputs": [
    {
     "data": {
      "image/png": "[encoded data removed]",
      "text/latex": [
       "$$\\left(\\left(P \\equiv Q\\right) \\wedge \\left(P \\equiv R\\right)\\right) \\Rightarrow \\left(\\left(P \\wedge R\\right) \\equiv \\left(Q \\wedge S\\right)\\right)$$"
      ],
      "text/plain": [
       "((P ≡ Q) ∧ (P ≡ R)) → ((P ∧ R) ≡ (Q ∧ S))"
      ]
     },
     "execution_count": 46,
     "metadata": {},
     "output_type": "execute_result"
    }
   ],
   "source": [
    "(And(Equivalent(P,Q),Equivalent(R,P)))>>(Equivalent(And(P,R),And(Q,S)))"
   ]
  },
  {
   "cell_type": "markdown",
   "metadata": {},
   "source": [
    "las formas normales conjuntivas para esta proposición son:\n"
   ]
  },
  {
   "cell_type": "code",
   "execution_count": 40,
   "metadata": {},
   "outputs": [
    {
     "data": {
      "image/png": "[encoded data removed]",
      "text/latex": [
       "$$\\left(P \\vee Q \\vee \\neg P \\vee \\neg R\\right) \\wedge \\left(Q \\vee \\neg P \\vee \\neg Q \\vee \\neg R\\right) \\wedge \\left(S \\vee \\neg P \\vee \\neg Q \\vee \\neg R\\right) \\wedge \\left(P \\vee Q \\vee R \\vee \\neg P \\vee \\neg R\\right) \\wedge \\left(P \\vee Q \\vee R \\vee \\neg Q \\vee \\neg S\\right) \\wedge \\left(P \\vee Q \\vee S \\vee \\neg P \\vee \\neg R\\right) \\wedge \\left(P \\vee R \\vee \\neg P \\vee \\neg Q \\vee \\neg S\\right) \\wedge \\left(P \\vee \\neg P \\vee \\neg Q \\vee \\neg R \\vee \\neg S\\right) \\wedge \\left(R \\vee \\neg P \\vee \\neg Q \\vee \\neg R \\vee \\neg S\\right) \\wedge \\left(P \\vee Q \\vee R \\vee S \\vee \\neg P \\vee \\neg R\\right) \\wedge \\left(P \\vee Q \\vee R \\vee \\neg P \\vee \\neg Q \\vee \\neg R\\right) \\wedge \\left(P \\vee Q \\vee \\neg P \\vee \\neg Q \\vee \\neg R \\vee \\neg S\\right) \\wedge \\left(P \\vee R \\vee S \\vee \\neg P \\vee \\neg Q \\vee \\neg R\\right) \\wedge \\left(P \\vee Q \\vee R \\vee \\neg P \\vee \\neg Q \\vee \\neg R \\vee \\neg S\\right)$$"
      ],
      "text/plain": [
       "(P ∨ Q ∨ ¬P ∨ ¬R) ∧ (Q ∨ ¬P ∨ ¬Q ∨ ¬R) ∧ (S ∨ ¬P ∨ ¬Q ∨ ¬R) ∧ (P ∨ Q ∨ R ∨ ¬P \n",
       "∨ ¬R) ∧ (P ∨ Q ∨ R ∨ ¬Q ∨ ¬S) ∧ (P ∨ Q ∨ S ∨ ¬P ∨ ¬R) ∧ (P ∨ R ∨ ¬P ∨ ¬Q ∨ ¬S)\n",
       " ∧ (P ∨ ¬P ∨ ¬Q ∨ ¬R ∨ ¬S) ∧ (R ∨ ¬P ∨ ¬Q ∨ ¬R ∨ ¬S) ∧ (P ∨ Q ∨ R ∨ S ∨ ¬P ∨ ¬\n",
       "R) ∧ (P ∨ Q ∨ R ∨ ¬P ∨ ¬Q ∨ ¬R) ∧ (P ∨ Q ∨ ¬P ∨ ¬Q ∨ ¬R ∨ ¬S) ∧ (P ∨ R ∨ S ∨ ¬\n",
       "P ∨ ¬Q ∨ ¬R) ∧ (P ∨ Q ∨ R ∨ ¬P ∨ ¬Q ∨ ¬R ∨ ¬S)"
      ]
     },
     "execution_count": 40,
     "metadata": {},
     "output_type": "execute_result"
    }
   ],
   "source": [
    "to_cnf((And(Equivalent(P,Q),Equivalent(R,P)))>>(Equivalent(And(P,R),And(Q,S))),false)"
   ]
  },
  {
   "cell_type": "markdown",
   "metadata": {},
   "source": [
    "La cantidad de formas normales que crea el sistema no es muy clara ya que en algunas repite proposiciónes, por este motivo se le solicita que simplifíque el resultado"
   ]
  },
  {
   "cell_type": "code",
   "execution_count": 41,
   "metadata": {},
   "outputs": [
    {
     "data": {
      "image/png": "[encoded data removed]",
      "text/latex": [
       "$$S \\vee \\neg P \\vee \\neg Q \\vee \\neg R$$"
      ],
      "text/plain": [
       "S ∨ ¬P ∨ ¬Q ∨ ¬R"
      ]
     },
     "execution_count": 41,
     "metadata": {},
     "output_type": "execute_result"
    }
   ],
   "source": [
    "to_cnf((And(Equivalent(P,Q),Equivalent(R,P)))>>(Equivalent(And(P,R),And(Q,S))),true)"
   ]
  },
  {
   "cell_type": "markdown",
   "metadata": {},
   "source": [
    "Aquí se observa que sólo se obtiene una Forma Normal Conjuntiva Principal.\n",
    "\n",
    "Ahora se obtendrán las formas normales disyuntivas:"
   ]
  },
  {
   "cell_type": "code",
   "execution_count": 42,
   "metadata": {},
   "outputs": [
    {
     "data": {
      "image/png": "[encoded data removed]",
      "text/latex": [
       "$$\\left(P \\wedge \\neg P\\right) \\vee \\left(P \\wedge \\neg Q\\right) \\vee \\left(P \\wedge \\neg R\\right) \\vee \\left(Q \\wedge \\neg P\\right) \\vee \\left(Q \\wedge \\neg Q\\right) \\vee \\left(R \\wedge \\neg P\\right) \\vee \\left(R \\wedge \\neg R\\right) \\vee \\left(\\neg P \\wedge \\neg Q\\right) \\vee \\left(\\neg P \\wedge \\neg S\\right) \\vee \\left(\\neg Q \\wedge \\neg R\\right) \\vee \\left(\\neg R \\wedge \\neg S\\right) \\vee \\left(P \\wedge R \\wedge \\neg P\\right) \\vee \\left(P \\wedge R \\wedge \\neg R\\right) \\vee \\left(Q \\wedge S \\wedge \\neg Q\\right) \\vee \\left(Q \\wedge S \\wedge \\neg S\\right) \\vee \\left(P \\wedge Q \\wedge R \\wedge S\\right)$$"
      ],
      "text/plain": [
       "(P ∧ ¬P) ∨ (P ∧ ¬Q) ∨ (P ∧ ¬R) ∨ (Q ∧ ¬P) ∨ (Q ∧ ¬Q) ∨ (R ∧ ¬P) ∨ (R ∧ ¬R) ∨ (\n",
       "¬P ∧ ¬Q) ∨ (¬P ∧ ¬S) ∨ (¬Q ∧ ¬R) ∨ (¬R ∧ ¬S) ∨ (P ∧ R ∧ ¬P) ∨ (P ∧ R ∧ ¬R) ∨ (\n",
       "Q ∧ S ∧ ¬Q) ∨ (Q ∧ S ∧ ¬S) ∨ (P ∧ Q ∧ R ∧ S)"
      ]
     },
     "execution_count": 42,
     "metadata": {},
     "output_type": "execute_result"
    }
   ],
   "source": [
    "to_dnf((And(Equivalent(P,Q),Equivalent(R,P)))>>(Equivalent(And(P,R),And(Q,S))),false)"
   ]
  },
  {
   "cell_type": "markdown",
   "metadata": {},
   "source": [
    "Nuevamente el resultado no es claro, por lo cual es necesario simplificar nuevamente "
   ]
  },
  {
   "cell_type": "code",
   "execution_count": 43,
   "metadata": {},
   "outputs": [
    {
     "data": {
      "image/png": "[encoded data removed]",
      "text/latex": [
       "$$S \\vee \\neg P \\vee \\neg Q \\vee \\neg R$$"
      ],
      "text/plain": [
       "S ∨ ¬P ∨ ¬Q ∨ ¬R"
      ]
     },
     "execution_count": 43,
     "metadata": {},
     "output_type": "execute_result"
    }
   ],
   "source": [
    "to_dnf((And(Equivalent(P,Q),Equivalent(R,P)))>>(Equivalent(And(P,R),And(Q,S))),true)"
   ]
  },
  {
   "cell_type": "markdown",
   "metadata": {},
   "source": [
    "En este caso la solución es exactamente la misma que en la FNCP, con la salvedad de que en este caso la proposición sería una FND no principal, por lo tanto se decide tomarla como una FNCP, por lo cual para saber el valor de verdad de la forma normal, se usará una tabla de verdad:"
   ]
  },
  {
   "cell_type": "code",
   "execution_count": 25,
   "metadata": {},
   "outputs": [
    {
     "name": "stdout",
     "output_type": "stream",
     "text": [
      "+---+---+---+---+------------------------------+\n",
      "| P | Q | R | S | S or not P or not Q or not R |\n",
      "+---+---+---+---+------------------------------+\n",
      "| 0 | 0 | 0 | 0 |              1               |\n",
      "| 0 | 0 | 0 | 1 |              1               |\n",
      "| 0 | 0 | 1 | 0 |              1               |\n",
      "| 0 | 0 | 1 | 1 |              1               |\n",
      "| 0 | 1 | 0 | 0 |              1               |\n",
      "| 0 | 1 | 0 | 1 |              1               |\n",
      "| 0 | 1 | 1 | 0 |              1               |\n",
      "| 0 | 1 | 1 | 1 |              1               |\n",
      "| 1 | 0 | 0 | 0 |              1               |\n",
      "| 1 | 0 | 0 | 1 |              1               |\n",
      "| 1 | 0 | 1 | 0 |              1               |\n",
      "| 1 | 0 | 1 | 1 |              1               |\n",
      "| 1 | 1 | 0 | 0 |              1               |\n",
      "| 1 | 1 | 0 | 1 |              1               |\n",
      "| 1 | 1 | 1 | 0 |              0               |\n",
      "| 1 | 1 | 1 | 1 |              1               |\n",
      "+---+---+---+---+------------------------------+\n"
     ]
    }
   ],
   "source": [
    "print Truths(['P','Q','R','S'],['S or not P or not Q or not R'])"
   ]
  },
  {
   "cell_type": "markdown",
   "metadata": {},
   "source": [
    "#### en este caso se ha obtenido una contingencia, lo cual es concordante con el desarrollo de los dos puntos anteriores"
   ]
  },
  {
   "cell_type": "markdown",
   "metadata": {},
   "source": [
    "# Segunda proposición: \n"
   ]
  },
  {
   "cell_type": "markdown",
   "metadata": {},
   "source": [
    "la segunda proposición es:"
   ]
  },
  {
   "cell_type": "code",
   "execution_count": 47,
   "metadata": {},
   "outputs": [
    {
     "data": {
      "image/png": "[encoded data removed]",
      "text/latex": [
       "$$\\left(\\left(P \\wedge Q\\right) \\equiv \\left(P \\wedge R\\right)\\right) \\equiv \\left(P \\Rightarrow \\left(Q \\equiv R\\right)\\right)$$"
      ],
      "text/plain": [
       "((P ∧ Q) ≡ (P ∧ R)) ≡ (P → (Q ≡ R))"
      ]
     },
     "execution_count": 47,
     "metadata": {},
     "output_type": "execute_result"
    }
   ],
   "source": [
    "Equivalent((Implies(P,Equivalent(Q,R))),(Equivalent((P&Q),(P&R))))"
   ]
  },
  {
   "cell_type": "markdown",
   "metadata": {},
   "source": [
    "para este ejercicio las FNC son:"
   ]
  },
  {
   "cell_type": "code",
   "execution_count": 44,
   "metadata": {},
   "outputs": [
    {
     "data": {
      "image/png": "[encoded data removed]",
      "text/latex": [
       "$$\\left(P \\vee \\neg P \\vee \\neg Q\\right) \\wedge \\left(P \\vee \\neg P \\vee \\neg R\\right) \\wedge \\left(P \\vee Q \\vee \\neg P \\vee \\neg R\\right) \\wedge \\left(P \\vee R \\vee \\neg P \\vee \\neg Q\\right) \\wedge \\left(P \\vee \\neg P \\vee \\neg Q \\vee \\neg R\\right) \\wedge \\left(Q \\vee R \\vee \\neg P \\vee \\neg Q\\right) \\wedge \\left(Q \\vee R \\vee \\neg P \\vee \\neg R\\right) \\wedge \\left(Q \\vee \\neg P \\vee \\neg Q \\vee \\neg R\\right) \\wedge \\left(R \\vee \\neg P \\vee \\neg Q \\vee \\neg R\\right) \\wedge \\left(P \\vee Q \\vee R \\vee \\neg P \\vee \\neg Q\\right) \\wedge \\left(P \\vee Q \\vee R \\vee \\neg P \\vee \\neg R\\right)$$"
      ],
      "text/plain": [
       "(P ∨ ¬P ∨ ¬Q) ∧ (P ∨ ¬P ∨ ¬R) ∧ (P ∨ Q ∨ ¬P ∨ ¬R) ∧ (P ∨ R ∨ ¬P ∨ ¬Q) ∧ (P ∨ ¬\n",
       "P ∨ ¬Q ∨ ¬R) ∧ (Q ∨ R ∨ ¬P ∨ ¬Q) ∧ (Q ∨ R ∨ ¬P ∨ ¬R) ∧ (Q ∨ ¬P ∨ ¬Q ∨ ¬R) ∧ (R\n",
       " ∨ ¬P ∨ ¬Q ∨ ¬R) ∧ (P ∨ Q ∨ R ∨ ¬P ∨ ¬Q) ∧ (P ∨ Q ∨ R ∨ ¬P ∨ ¬R)"
      ]
     },
     "execution_count": 44,
     "metadata": {},
     "output_type": "execute_result"
    }
   ],
   "source": [
    "to_cnf(Equivalent((Implies(P,Equivalent(Q,R))),(Equivalent((P&Q),(P&R)))),false)"
   ]
  },
  {
   "cell_type": "markdown",
   "metadata": {},
   "source": [
    "por la misma razón del punto anterior, se simplifica el resultado"
   ]
  },
  {
   "cell_type": "code",
   "execution_count": 31,
   "metadata": {},
   "outputs": [
    {
     "data": {
      "image/png": "[encoded data removed]",
      "text/latex": [
       "$$\\mathrm{True}$$"
      ],
      "text/plain": [
       "True"
      ]
     },
     "execution_count": 31,
     "metadata": {},
     "output_type": "execute_result"
    }
   ],
   "source": [
    "to_cnf(Equivalent((Implies(P,Equivalent(Q,R))),(Equivalent((P&Q),(P&R)))),true)"
   ]
  },
  {
   "cell_type": "markdown",
   "metadata": {},
   "source": [
    "#### Ya que el resultado es \"True\" se puede concluir directamente que la proposición es una tautología y no es necesario buscar sus FNDP, ya que $FNCP \\Leftrightarrow FNDP \\Leftrightarrow 1$"
   ]
  },
  {
   "cell_type": "markdown",
   "metadata": {},
   "source": [
    "# Tercera proposición:"
   ]
  },
  {
   "cell_type": "markdown",
   "metadata": {},
   "source": [
    "la segunda proposición es:"
   ]
  },
  {
   "cell_type": "code",
   "execution_count": 48,
   "metadata": {},
   "outputs": [
    {
     "data": {
      "image/png": "[encoded data removed]",
      "text/latex": [
       "$$\\left(Q \\Rightarrow R\\right) \\Rightarrow \\left(\\left(\\neg Q \\Rightarrow \\neg P\\right) \\Rightarrow \\left(P \\Rightarrow R\\right)\\right)$$"
      ],
      "text/plain": [
       "(Q → R) → ((¬Q → ¬P) → (P → R))"
      ]
     },
     "execution_count": 48,
     "metadata": {},
     "output_type": "execute_result"
    }
   ],
   "source": [
    "Implies((Q>>R),((Implies(~Q,~P))>>(Implies(P,R))))"
   ]
  },
  {
   "cell_type": "markdown",
   "metadata": {},
   "source": [
    "Sus Formas Normales Conjuntivas son:"
   ]
  },
  {
   "cell_type": "code",
   "execution_count": 35,
   "metadata": {},
   "outputs": [
    {
     "data": {
      "image/png": "[encoded data removed]",
      "text/latex": [
       "$$\\left(P \\vee Q \\vee R \\vee \\neg P\\right) \\wedge \\left(P \\vee R \\vee \\neg P \\vee \\neg R\\right) \\wedge \\left(Q \\vee R \\vee \\neg P \\vee \\neg Q\\right) \\wedge \\left(R \\vee \\neg P \\vee \\neg Q \\vee \\neg R\\right)$$"
      ],
      "text/plain": [
       "(P ∨ Q ∨ R ∨ ¬P) ∧ (P ∨ R ∨ ¬P ∨ ¬R) ∧ (Q ∨ R ∨ ¬P ∨ ¬Q) ∧ (R ∨ ¬P ∨ ¬Q ∨ ¬R)"
      ]
     },
     "execution_count": 35,
     "metadata": {},
     "output_type": "execute_result"
    }
   ],
   "source": [
    "to_cnf(Implies((Q>>R),((Implies(~Q,~P))>>(Implies(P,R)))),false)"
   ]
  },
  {
   "cell_type": "markdown",
   "metadata": {},
   "source": [
    "nuevamente, se simplifica:"
   ]
  },
  {
   "cell_type": "code",
   "execution_count": 38,
   "metadata": {},
   "outputs": [
    {
     "data": {
      "image/png": "[encoded data removed]",
      "text/latex": [
       "$$\\mathrm{True}$$"
      ],
      "text/plain": [
       "True"
      ]
     },
     "execution_count": 38,
     "metadata": {},
     "output_type": "execute_result"
    }
   ],
   "source": [
    "to_cnf(Implies((Q>>R),((Implies(~Q,~P))>>(Implies(P,R)))),true)"
   ]
  },
  {
   "cell_type": "markdown",
   "metadata": {},
   "source": [
    "#### Al igual que en la segunda proposición, el resultado es \"True\" por lo cual (nuevamente) se puede concluir directamente que la proposición es una tautología y no es necesario buscar sus FNDP, ya que $FNCP \\Leftrightarrow FNDP \\Leftrightarrow 1$"
   ]
  }
 ],
 "metadata": {
  "kernelspec": {
   "display_name": "Python 2",
   "language": "python",
   "name": "python2"
  },
  "language_info": {
   "codemirror_mode": {
    "name": "ipython",
    "version": 2
   },
   "file_extension": ".py",
   "mimetype": "text/x-python",
   "name": "python",
   "nbconvert_exporter": "python",
   "pygments_lexer": "ipython2",
   "version": "2.7.13"
  }
 },
 "nbformat": 4,
 "nbformat_minor": 2
}
