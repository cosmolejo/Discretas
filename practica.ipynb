{
 "cells": [
  {
   "cell_type": "markdown",
   "metadata": {},
   "source": [
    "https://stackoverflow.com/questions/12462747/truth-tables-in-python-using-sympy \n",
    "http://docs.sympy.org/latest/modules/logic.html#id1"
   ]
  },
  {
   "cell_type": "markdown",
   "metadata": {},
   "source": [
    "# Trabajo 1"
   ]
  },
  {
   "cell_type": "code",
   "execution_count": 2,
   "metadata": {
    "collapsed": true
   },
   "outputs": [],
   "source": [
    "from sympy import *\n",
    "from sympy.abc import P,Q,R,S,T\n",
    "from sympy.logic.boolalg import Not, And, Or\n",
    "from __future__ import division\n",
    "import truths\n",
    "init_printing()"
   ]
  },
  {
   "cell_type": "markdown",
   "metadata": {},
   "source": [
    "# 1 \n",
    "Cada equipo de trabajo, realizará tres programas hechos en Matlab o en otro\n",
    "lenguaje de programación que permita construir la tabla de verdad y mostrar\n",
    "paso a paso como se va encontrando los valores de verdad en cada parte de la\n",
    "proposición dada. "
   ]
  },
  {
   "cell_type": "code",
   "execution_count": 6,
   "metadata": {},
   "outputs": [
    {
     "data": {
      "image/png": "[encoded data removed]",
      "text/latex": [
       "$$\\left(\\left(P \\equiv Q\\right) \\wedge \\left(P \\equiv R\\right)\\right) \\Rightarrow \\left(\\left(P \\wedge R\\right) \\equiv \\left(Q \\wedge S\\right)\\right)$$"
      ],
      "text/plain": [
       "((P ≡ Q) ∧ (P ≡ R)) → ((P ∧ R) ≡ (Q ∧ S))"
      ]
     },
     "execution_count": 6,
     "metadata": {},
     "output_type": "execute_result"
    }
   ],
   "source": [
    "(And(Equivalent(P,Q),Equivalent(R,P)))>>(Equivalent(And(P,R),And(Q,S)))"
   ]
  },
  {
   "cell_type": "code",
   "execution_count": 11,
   "metadata": {},
   "outputs": [
    {
     "data": {
      "image/png": "[encoded data removed]",
      "text/latex": [
       "$$\\left(\\left(\\neg P \\vee \\neg R\\right) \\wedge \\left(\\neg Q \\vee \\neg S\\right)\\right) \\vee \\left(P \\wedge Q \\wedge R \\wedge S\\right) \\vee \\neg (\\left(\\left(P \\wedge Q\\right) \\vee \\left(\\neg P \\wedge \\neg Q\\right)\\right) \\wedge \\left(\\left(P \\wedge R\\right) \\vee \\left(\\neg Q \\wedge \\neg R\\right)\\right))$$"
      ],
      "text/plain": [
       "((¬P ∨ ¬R) ∧ (¬Q ∨ ¬S)) ∨ (P ∧ Q ∧ R ∧ S) ∨ ¬(((P ∧ Q) ∨ (¬P ∧ ¬Q)) ∧ ((P ∧ R)\n",
       " ∨ (¬Q ∧ ¬R)))"
      ]
     },
     "execution_count": 11,
     "metadata": {},
     "output_type": "execute_result"
    }
   ],
   "source": [
    "Or(Not(And(Or(And(P,Q),And(Not(P),Not(Q))),Or(And(R,P),And(Not(R),Not(Q))))),Or(And(P&R,Q&S),And(~P|~R,~Q|~S)))"
   ]
  },
  {
   "cell_type": "code",
   "execution_count": 37,
   "metadata": {
    "scrolled": true
   },
   "outputs": [
    {
     "name": "stdout",
     "output_type": "stream",
     "text": [
      "+---+---+---+---+-----------------------------------------------------------------------------------------------------------------------------------------------------+\n",
      "| P | Q | R | S | not(((P and Q) or (not P and not Q)) and ((R and P) or (not R and not Q)))      or (((P and R) and (Q and S)) or (not (P and R) and not (Q and S))) |\n",
      "+---+---+---+---+-----------------------------------------------------------------------------------------------------------------------------------------------------+\n",
      "| 0 | 0 | 0 | 0 |                                                                          1                                                                          |\n",
      "| 0 | 0 | 0 | 1 |                                                                          1                                                                          |\n",
      "| 0 | 0 | 1 | 0 |                                                                          1                                                                          |\n",
      "| 0 | 0 | 1 | 1 |                                                                          1                                                                          |\n",
      "| 0 | 1 | 0 | 0 |                                                                          1                                                                          |\n",
      "| 0 | 1 | 0 | 1 |                                                                          1                                                                          |\n",
      "| 0 | 1 | 1 | 0 |                                                                          1                                                                          |\n",
      "| 0 | 1 | 1 | 1 |                                                                          1                                                                          |\n",
      "| 1 | 0 | 0 | 0 |                                                                          1                                                                          |\n",
      "| 1 | 0 | 0 | 1 |                                                                          1                                                                          |\n",
      "| 1 | 0 | 1 | 0 |                                                                          1                                                                          |\n",
      "| 1 | 0 | 1 | 1 |                                                                          1                                                                          |\n",
      "| 1 | 1 | 0 | 0 |                                                                          1                                                                          |\n",
      "| 1 | 1 | 0 | 1 |                                                                          1                                                                          |\n",
      "| 1 | 1 | 1 | 0 |                                                                          0                                                                          |\n",
      "| 1 | 1 | 1 | 1 |                                                                          1                                                                          |\n",
      "+---+---+---+---+-----------------------------------------------------------------------------------------------------------------------------------------------------+\n"
     ]
    }
   ],
   "source": [
    "exp=\"not(((P and Q) or (not P and not Q)) and ((R and P) or (not R and not Q))) \\\n",
    "     or (((P and R) and (Q and S)) or (not (P and R) and not (Q and S)))\"\n",
    "print truths.Truths(['P','Q','R','S'],[exp])"
   ]
  },
  {
   "cell_type": "code",
   "execution_count": 22,
   "metadata": {},
   "outputs": [
    {
     "ename": "SyntaxError",
     "evalue": "invalid syntax (<ipython-input-22-d7317f1eb6a0>, line 1)",
     "output_type": "error",
     "traceback": [
      "\u001b[0;36m  File \u001b[0;32m\"<ipython-input-22-d7317f1eb6a0>\"\u001b[0;36m, line \u001b[0;32m1\u001b[0m\n\u001b[0;31m    (And(Equivalent(P,Q),Equivalent(R,P)))>>(Equivalent(And(P,R),And(Q,S))).subs(P:1,Q:1)\u001b[0m\n\u001b[0m                                                                                  ^\u001b[0m\n\u001b[0;31mSyntaxError\u001b[0m\u001b[0;31m:\u001b[0m invalid syntax\n"
     ]
    }
   ],
   "source": [
    "(And(Equivalent(P,Q),Equivalent(R,P)))>>(Equivalent(And(P,R),And(Q,S))).subs(P:1,Q:1)"
   ]
  }
 ],
 "metadata": {
  "kernelspec": {
   "display_name": "Python 2",
   "language": "python",
   "name": "python2"
  },
  "language_info": {
   "codemirror_mode": {
    "name": "ipython",
    "version": 2
   },
   "file_extension": ".py",
   "mimetype": "text/x-python",
   "name": "python",
   "nbconvert_exporter": "python",
   "pygments_lexer": "ipython2",
   "version": "2.7.13"
  }
 },
 "nbformat": 4,
 "nbformat_minor": 2
}
